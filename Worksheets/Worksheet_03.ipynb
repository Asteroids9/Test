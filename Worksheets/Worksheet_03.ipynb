{
 "cells": [
  {
   "cell_type": "markdown",
   "metadata": {
    "editable": false,
    "locked": true
   },
   "source": [
    "# Tutorial Worksheet 3"
   ]
  },
  {
   "cell_type": "markdown",
   "metadata": {
    "editable": false,
    "locked": true
   },
   "source": [
    "You have studied how to create and operate on numerical and string variables, lists, tuples, and dictionaries. However, core Python has a limited number of functions, but these can be extended by loading in additional packages/modules using the import command.\n",
    "\n",
    "Import will allow code in other python files to be used in your code, this has allowed the Python community to make large collections of tools suited for a range of tasks that you can access and use by simply adding an import line to your code.\n",
    "\n",
    "Some commonly used science packages are:\n",
    "\n",
    "[**Numpy**](http://www.numpy.org/): essential package for functions for multi-dimensional data arrays and advanced array based mathematics.\n",
    "\n",
    "[**SciPy**](https://www.scipy.org/scipylib/index.html): the fundamental library for scientific computing with functions for integration, optimisation, signal filtering and analysis.\n",
    "\n",
    "[**Matplotlib**](https://matplotlib.org/): one of the most popular plotting modules for python, with functions for making most types of plots used in science.\n",
    "\n",
    "[**AstroPy**](http://www.astropy.org/): the standard package for astrophysics, has tools for loading in most astronomy filetypes, storing/manipulating data, unit conversions and advanced astronomical coordinate transforms. \n",
    "\n",
    "[**SunPy**](https://sunpy.org/): solar physics package for searching, downloading and manipulation of data on the sun. Features solar database (VSO/HEK) queries, advanced solar coordinate transformation, image maps, time series and spectrum data storage.\n",
    "\n",
    "For this tutorial you need to import NumPy, you can do this using:"
   ]
  },
  {
   "cell_type": "code",
   "execution_count": null,
   "metadata": {},
   "outputs": [],
   "source": [
    "import numpy as np"
   ]
  },
  {
   "cell_type": "markdown",
   "metadata": {
    "editable": false,
    "locked": true
   },
   "source": [
    "And now you can access all the functions from **NumPy** using `np.` before typing the function you want."
   ]
  },
  {
   "cell_type": "markdown",
   "metadata": {
    "editable": false,
    "locked": true
   },
   "source": [
    "## Array Creation"
   ]
  },
  {
   "cell_type": "markdown",
   "metadata": {
    "editable": false,
    "locked": true
   },
   "source": [
    "We now extend variables from scalars to vectors and arrays. Similar to the idea of putting data into a grid in Microsoft Excel, **NumPy** lets you define an array variable to have as many grids as you like. You can then use the variable name to refer to the array when you want to operate on it. \n",
    "\n",
    "Vectors are a row or a column of numbers. To create a row vector, type numbers within a pair of square brackets with elements separated by commas, then put all of these as an input argument to the **NumPy** function `array`:"
   ]
  },
  {
   "cell_type": "code",
   "execution_count": null,
   "metadata": {},
   "outputs": [],
   "source": [
    "A = np.array([0, 1, 2, 3, 4])"
   ]
  },
  {
   "cell_type": "markdown",
   "metadata": {
    "editable": false,
    "locked": true
   },
   "source": [
    "Now, you can see what the one dimensional array looks like by typing the variable name A. It should look like: \n",
    "\n",
    "`array([0, 1, 2, 3, 4])`"
   ]
  },
  {
   "cell_type": "markdown",
   "metadata": {
    "editable": false,
    "locked": true
   },
   "source": [
    "Type `help(np.array)` for more information about this `array` function. You can also type `np.array?` to get help. "
   ]
  },
  {
   "cell_type": "code",
   "execution_count": null,
   "metadata": {},
   "outputs": [],
   "source": []
  },
  {
   "cell_type": "code",
   "execution_count": null,
   "metadata": {},
   "outputs": [],
   "source": []
  },
  {
   "cell_type": "markdown",
   "metadata": {
    "editable": false,
    "locked": true
   },
   "source": [
    "Type `A.ndim` to see its dimension which is 1. Type `A.shape` to see its shape which is (5, ) indicating there are 5 elements in its first dimension and also there is only one dimension!"
   ]
  },
  {
   "cell_type": "code",
   "execution_count": null,
   "metadata": {},
   "outputs": [],
   "source": []
  },
  {
   "cell_type": "code",
   "execution_count": null,
   "metadata": {},
   "outputs": [],
   "source": []
  },
  {
   "cell_type": "markdown",
   "metadata": {
    "editable": false,
    "locked": true
   },
   "source": [
    "To create a column vector, type the following"
   ]
  },
  {
   "cell_type": "code",
   "execution_count": null,
   "metadata": {},
   "outputs": [],
   "source": [
    "B = np.array([ [0], [1], [2], [3], [4] ])"
   ]
  },
  {
   "cell_type": "markdown",
   "metadata": {
    "editable": false,
    "locked": true
   },
   "source": [
    "or"
   ]
  },
  {
   "cell_type": "code",
   "execution_count": null,
   "metadata": {},
   "outputs": [],
   "source": [
    "A = np.array([0, 1, 2, 3, 4]) \n",
    "B = A[:, np.newaxis]\n",
    "B"
   ]
  },
  {
   "cell_type": "markdown",
   "metadata": {
    "editable": false,
    "locked": true
   },
   "source": [
    "or"
   ]
  },
  {
   "cell_type": "code",
   "execution_count": null,
   "metadata": {},
   "outputs": [],
   "source": [
    "B = np.array([0, 1, 2, 3, 4])[:, np.newaxis]"
   ]
  },
  {
   "cell_type": "markdown",
   "metadata": {
    "editable": false,
    "locked": true
   },
   "source": [
    "These create a column vector but note that the array B is essentially a two-dimensional array (first dimension – 5 elements, second dimension – 1 element) as `np.newaxis` is used to add an axis to an array.\n",
    "\n",
    "Arrays are a grid of numbers. The lines below create an array of size 2 x 4. Its size is the number of rows by the number of columns. "
   ]
  },
  {
   "cell_type": "code",
   "execution_count": null,
   "metadata": {},
   "outputs": [],
   "source": [
    "C = np.array([ [0, 1, 2, 3], [4, 5, 6, 7] ])\n",
    "C"
   ]
  },
  {
   "cell_type": "markdown",
   "metadata": {
    "editable": false,
    "locked": true
   },
   "source": [
    "Can you check the dimensions and the shape of the array C? The dimensions are formed by using pairs of square brackets. "
   ]
  },
  {
   "cell_type": "code",
   "execution_count": null,
   "metadata": {},
   "outputs": [],
   "source": []
  },
  {
   "cell_type": "markdown",
   "metadata": {
    "editable": false,
    "locked": true
   },
   "source": [
    "What is the shape for the array D below?"
   ]
  },
  {
   "cell_type": "code",
   "execution_count": null,
   "metadata": {},
   "outputs": [],
   "source": [
    "D = np.array( [ [ [0], [1] ], [ [2], [3] ] ] )"
   ]
  },
  {
   "cell_type": "markdown",
   "metadata": {
    "editable": false,
    "locked": true
   },
   "source": [
    "## Some Functions for Array Creation"
   ]
  },
  {
   "cell_type": "markdown",
   "metadata": {
    "editable": false,
    "locked": true
   },
   "source": [
    "There are some functions that can create arrays so that we do not need to enter all items manually. \n",
    "\n",
    "We can create a sequence of evenly spaced numbers:"
   ]
  },
  {
   "cell_type": "code",
   "execution_count": null,
   "metadata": {},
   "outputs": [],
   "source": [
    "E1 = np.arange(4)\n",
    "E2 = np.arange(1, 8, 2)"
   ]
  },
  {
   "cell_type": "markdown",
   "metadata": {
    "editable": false,
    "locked": true
   },
   "source": [
    "Note that the `arange` function returns evenly spaced values within a given interval with syntax `arange([start,] stop[, step,])`, this includes the start value but excludes the stop value."
   ]
  },
  {
   "cell_type": "markdown",
   "metadata": {
    "editable": false,
    "locked": true
   },
   "source": [
    "### Question 1 \n",
    "\n",
    "Create a vector called **d1** that increases in steps 1 from 1 up to 500."
   ]
  },
  {
   "cell_type": "code",
   "execution_count": null,
   "metadata": {},
   "outputs": [],
   "source": []
  },
  {
   "cell_type": "markdown",
   "metadata": {
    "editable": false,
    "locked": true
   },
   "source": [
    "### Question 2 \n",
    "\n",
    "Create a vector called **d2** that decreases in steps 5 from 1000 down to 500."
   ]
  },
  {
   "cell_type": "code",
   "execution_count": null,
   "metadata": {},
   "outputs": [],
   "source": []
  },
  {
   "cell_type": "markdown",
   "metadata": {
    "editable": false,
    "locked": true
   },
   "source": [
    "If you know how many numbers are in a sequence, use `linspace` function to create an array with a linearly spaced sequence. You may want to use help documentation to find details about `linspace`.\n",
    "\n",
    "Note that `np.linspace(start, stop, number of points)` includes the endpoint of the interval by default."
   ]
  },
  {
   "cell_type": "code",
   "execution_count": null,
   "metadata": {},
   "outputs": [],
   "source": [
    "F = np.linspace(0, 1, 11)"
   ]
  },
  {
   "cell_type": "markdown",
   "metadata": {
    "editable": false,
    "locked": true
   },
   "source": [
    "It is often useful to generate some variables full of zeros, ones or full of some other numbers.Type `help(np.zeros)` for details on how to create an array of zeros and `np.ones?` for arrays of ones. "
   ]
  },
  {
   "cell_type": "code",
   "execution_count": null,
   "metadata": {},
   "outputs": [],
   "source": [
    "G1 = np.zeros( (4, 3) )\n",
    "G2 = np.ones( (3, 4) )"
   ]
  },
  {
   "cell_type": "markdown",
   "metadata": {
    "editable": false,
    "locked": true
   },
   "source": [
    "Why is there a second pair of brackets in the above lines? What is the data type of `(4, 3)`? You’ve learnt this data type in the worksheet 2. "
   ]
  },
  {
   "cell_type": "markdown",
   "metadata": {
    "editable": false,
    "locked": true
   },
   "source": [
    "### Question 3 \n",
    "\n",
    "Create a 5 by 3 array full of 8s using `zeros` or `ones` commands in **NumPy**. You may need to figure out how to do array addition or scalar multiplication which is introduced in the section - **Some Array Operations**."
   ]
  },
  {
   "cell_type": "code",
   "execution_count": null,
   "metadata": {},
   "outputs": [],
   "source": []
  },
  {
   "cell_type": "markdown",
   "metadata": {
    "editable": false,
    "locked": true
   },
   "source": [
    "Find out what the lines below do by getting help from **NumPy** help documentation."
   ]
  },
  {
   "cell_type": "code",
   "execution_count": null,
   "metadata": {},
   "outputs": [],
   "source": [
    "G3 = np.eye(5)\n",
    "G4 = np.random.rand(5)\n",
    "G5 = np.random.randn(5)"
   ]
  },
  {
   "cell_type": "code",
   "execution_count": null,
   "metadata": {},
   "outputs": [],
   "source": []
  },
  {
   "cell_type": "markdown",
   "metadata": {
    "editable": false,
    "locked": true
   },
   "source": [
    "## Array Indexing"
   ]
  },
  {
   "cell_type": "markdown",
   "metadata": {
    "editable": false,
    "locked": true
   },
   "source": [
    "Indexing means getting some part of an array you want by using indices (row index and column index etc.). Indices start at 0 in Python.\n",
    "\n",
    "You can address a vector using square brackets. For example, `G4[2]` means the third element in the array G4. You can **slice** an array to get multiple values, where `G4[1:5]` means return the 2nd through 5th elements. `G4[ [2, 0, 3] ]` means the 3nd , 1st and 4th elements from the array G4. Try `G4[-1]`, `G4[:-1]`, `G4[::-1]` to see how negative indices work here."
   ]
  },
  {
   "cell_type": "code",
   "execution_count": null,
   "metadata": {},
   "outputs": [],
   "source": []
  },
  {
   "cell_type": "markdown",
   "metadata": {
    "editable": false,
    "locked": true
   },
   "source": [
    "In two dimensional arrays, the first dimension corresponds to rows, the second to columns."
   ]
  },
  {
   "cell_type": "code",
   "execution_count": null,
   "metadata": {},
   "outputs": [],
   "source": [
    "H = np.array([ [0, 1, 2, 3], [4, 5, 6, 7], [8, 9, 10, 11] ])\n",
    "H[1, 2] "
   ]
  },
  {
   "cell_type": "markdown",
   "metadata": {
    "editable": false,
    "locked": true
   },
   "source": [
    "`H[1, 2]` means the value in the second row, the third column of H. You can extract the value, using square brackets `J = H[1, 2]`. For multi-dimensional arrays, indices are actually tuples of integers. So the `H[1, 2]` can be replaced with `H[ (1, 2) ]`, which is obviously unnecessary. \n",
    "\n",
    "We can assign some values to array elements."
   ]
  },
  {
   "cell_type": "code",
   "execution_count": null,
   "metadata": {},
   "outputs": [],
   "source": [
    "H[1,1] = 50"
   ]
  },
  {
   "cell_type": "markdown",
   "metadata": {
    "editable": false,
    "locked": true
   },
   "source": [
    "So the entry `H[1, 1]` is changed from 5 to 50.\n",
    " \n",
    "In the square brackets, a colon means everything in a row or column and is used to extract data from an array. `H[:, 1]` means everything in the second column of H. However, `H[:, 1]` is displayed like a row vector and don’t get confused as it simply means that all items in the second column of H are extracted to display in a one-dimensional array. `H[1, :]` means every column in the second row of H. `H[:, 2:4]` means everything in the column 2, 3 of H. Note that there exists column 0, which is the first column!\n",
    "\n",
    "An indexing operation creates a view on the original array. This means that the original array is not copied in memory. The function `may_share_memory()` in **NumPy** can be used to check if two arrays share the same memory block. Note that when a view is modified, the original array is modified as well."
   ]
  },
  {
   "cell_type": "code",
   "execution_count": null,
   "metadata": {},
   "outputs": [],
   "source": [
    "J1 = np.arange(8)\n",
    "J2 = J1[2:4] \n",
    "np.may_share_memory(J1, J2)"
   ]
  },
  {
   "cell_type": "code",
   "execution_count": null,
   "metadata": {},
   "outputs": [],
   "source": [
    "J2[1] = 20\n",
    "J1"
   ]
  },
  {
   "cell_type": "markdown",
   "metadata": {
    "editable": false,
    "locked": true
   },
   "source": [
    "When a new array is created by using an array of integers to index, the newly created array must have the same shape as that of the array of integers."
   ]
  },
  {
   "cell_type": "code",
   "execution_count": null,
   "metadata": {},
   "outputs": [],
   "source": [
    "K1 = np.arange(1, 12,  2)\n",
    "K2 = np.array([ [1, 3], [2, 5]  ] )\n",
    "K1[K2]"
   ]
  },
  {
   "cell_type": "markdown",
   "metadata": {
    "editable": false,
    "locked": true
   },
   "source": [
    "## Some Array Operations\n",
    "\n",
    "Array transposing interchanges the rows and columns (i.e. to turn all the rows into columns and the columns into rows). "
   ]
  },
  {
   "cell_type": "code",
   "execution_count": null,
   "metadata": {},
   "outputs": [],
   "source": [
    "L1 = np.array([ [1, 2, 3], [4, 5, 6] ])\n",
    "L2 = L1.T"
   ]
  },
  {
   "cell_type": "markdown",
   "metadata": {
    "editable": false,
    "locked": true
   },
   "source": [
    "Note that a `T` is used to access the transpose of the array.\n",
    "\n",
    "You can operate on arrays using maths functions. Two examples are as follows."
   ]
  },
  {
   "cell_type": "code",
   "execution_count": null,
   "metadata": {},
   "outputs": [],
   "source": [
    "N1 = np.arange(8)\n",
    "N2 = np.sin(N1)\n",
    "N3 = np.exp(N1)"
   ]
  },
  {
   "cell_type": "markdown",
   "metadata": {
    "editable": false,
    "locked": true
   },
   "source": [
    "You can do scalar-array addition and subtraction, and scalar-array multiplication and division."
   ]
  },
  {
   "cell_type": "code",
   "execution_count": null,
   "metadata": {},
   "outputs": [],
   "source": [
    "P1 = np.array([ [1, 2, 3], [4, 5, 6] ])\n",
    "P2 = P1 + 2\n",
    "P3 = P1 - 2\n",
    "P4 = P1 * 2\n",
    "P5 = P1 / 2"
   ]
  },
  {
   "cell_type": "markdown",
   "metadata": {
    "editable": false,
    "locked": true
   },
   "source": [
    "To do array addition, add P1 and P6. Array subtraction, multiplication and division are operated element by element similar to array addition."
   ]
  },
  {
   "cell_type": "code",
   "execution_count": null,
   "metadata": {},
   "outputs": [],
   "source": [
    "P1 = np.array([ [1, 2, 3], [4, 5, 6] ])\n",
    "P6 = np.array([[10, 11, 12], [13, 14, 15] ])\n",
    "P7 = P1 + P6\n",
    "P8 = P1 * P6"
   ]
  },
  {
   "cell_type": "markdown",
   "metadata": {
    "editable": false,
    "locked": true
   },
   "source": [
    "There is an operation, called __broadcasting__, which makes it possible to operate on arrays of different sizes (not an array with a scalar). **NumPy** can automatically transform these arrays so that they all have the same size. In the first example below, **NumPy** automatically expands the array R2 from a row vector to 3x3 by making the second row and the third row the same as the first row. So the extended R2 has the same size as the array R1 and then they are added together to produce R3."
   ]
  },
  {
   "cell_type": "code",
   "execution_count": null,
   "metadata": {},
   "outputs": [],
   "source": [
    "R1 = np.array([ [1, 2, 3], [4, 5, 6], [7, 8, 9]])\n",
    "R2 = np.array([2, 2, 2] )\n",
    "R3 = R1 + R2"
   ]
  },
  {
   "cell_type": "markdown",
   "metadata": {
    "editable": false,
    "locked": true
   },
   "source": [
    "The broadcasting can extend a column vector (here R4 is actually a 3x1 array!) in a way similar to the example above."
   ]
  },
  {
   "cell_type": "code",
   "execution_count": null,
   "metadata": {},
   "outputs": [],
   "source": [
    "R1 = np.array([ [1, 2, 3], [4, 5, 6], [7, 8, 9] ])\n",
    "R4 = np.array([ [3], [3], [3] ])\n",
    "R5 = R1 + R4"
   ]
  },
  {
   "cell_type": "markdown",
   "metadata": {
    "editable": false,
    "locked": true
   },
   "source": [
    "The broadcasting can also extend both a row vector and a column vector at the same time. In the example below, **NumPy** automatically expands both the array R6 and the array R7 to their correspondent 3x3 arrays."
   ]
  },
  {
   "cell_type": "code",
   "execution_count": null,
   "metadata": {},
   "outputs": [],
   "source": [
    "R6 = np.array([2, 2, 2])\n",
    "R7 = np.array([ [1], [1], [1] ])\n",
    "R8 = R6 + R7"
   ]
  },
  {
   "cell_type": "markdown",
   "metadata": {
    "editable": false,
    "locked": true
   },
   "source": [
    "An array can be reshaped to have a different size."
   ]
  },
  {
   "cell_type": "code",
   "execution_count": null,
   "metadata": {},
   "outputs": [],
   "source": [
    "S1 = np.arange(4 * 2)\n",
    "S2 = S1.reshape( (4, 2) )"
   ]
  },
  {
   "cell_type": "markdown",
   "metadata": {
    "editable": false,
    "locked": true
   },
   "source": [
    "Replicating and tiling an array can create an array of a bigger size. In the example below, the array T2 is created with its size increased in both dimensions."
   ]
  },
  {
   "cell_type": "code",
   "execution_count": null,
   "metadata": {},
   "outputs": [],
   "source": [
    "T1 = np.array([ [1, 2, 3], [4, 5, 6] ])\n",
    "T2 = np.tile(T1, (2, 3) )"
   ]
  },
  {
   "cell_type": "markdown",
   "metadata": {
    "editable": false,
    "locked": true
   },
   "source": [
    "### Question 4\n",
    "\n",
    "Type this array in a cell using `array` function in **NumPy** and give the array a name **M**. Use Python to answer the following questions:\n",
    "\n",
    "\\begin{bmatrix}\n",
    "    3 & -2 & 4 & 11 \\\\ 7 & 2 & -12 & 21 \\\\ 4 & -1 & 7 & 1 \\\\ 5 & -4 & 2 & -9\n",
    "\\end{bmatrix}\n",
    "\n",
    "* a)\tCreate a vector v consisting of the elements in the second column of M. \n",
    "* b)\tCreate a vector w consisting of the elements in the second row of M.\n",
    "* c)\tCreate a 4x3 array x consisting of all elements in the first through third columns of M. \n",
    "* d)\tCreate a 2x3 array y consisting of all elements in the first two rows and the last three columns of M. \n",
    "* e)\tChange the value of M[2, 3] to be a new number 20.\n",
    "* f)\tChange all the numbers in the third row to be 7."
   ]
  },
  {
   "cell_type": "code",
   "execution_count": null,
   "metadata": {},
   "outputs": [],
   "source": []
  },
  {
   "cell_type": "markdown",
   "metadata": {
    "editable": false,
    "locked": true
   },
   "source": [
    "### Question 5 \n",
    "\n",
    "Create an array **N** that is the left-right mirror image of the array __M__ in the question 4 using array operations (not typing the numbers manually)."
   ]
  },
  {
   "cell_type": "code",
   "execution_count": null,
   "metadata": {},
   "outputs": [],
   "source": []
  },
  {
   "cell_type": "markdown",
   "metadata": {
    "editable": false,
    "locked": true
   },
   "source": [
    "## Script\n",
    "\n",
    "A script is basically a list of commands/statements that are executed one line after another in the order they appear. You can implement as many commands as you want and keep a record of all of them so that you can re-use scripts later. Your **Jupyter Notebook** file can be downloaded as a Python file (.py file) using menus **File -> Download as -> Python**. A **Python** script is usually saved as a .py file. For this course we recommend using Jupyter Notebook file (.ipynb).\n",
    "\n",
    "It is a good practice to start a few comment lines beginning with # to introduce what the script does, programmer’s name, and date of creation etc. A comment line is added to the second line below, which is just to show how a comment line is added. However, from now on, whenever you write quite a number of lines of code, try to include some comments if necessary."
   ]
  },
  {
   "cell_type": "code",
   "execution_count": null,
   "metadata": {},
   "outputs": [],
   "source": [
    "S1 = np.arange(4 * 2)\n",
    "S2 = S1.reshape( (4, 2) ) # reshape the array S1 to be (4, 2) in size"
   ]
  },
  {
   "cell_type": "markdown",
   "metadata": {
    "editable": false,
    "locked": true
   },
   "source": [
    "Comments can go on a line by themselves or at the end of a line of code. Comment lines are ignored by **Python** as it runs the script but are useful to annotate and explain your code. In addition, if you have a line of code which you no longer want to execute, you can ‘comment it out’."
   ]
  }
 ],
 "metadata": {
  "kernelspec": {
   "display_name": "Python 3",
   "language": "python",
   "name": "python3"
  },
  "language_info": {
   "codemirror_mode": {
    "name": "ipython",
    "version": 3
   },
   "file_extension": ".py",
   "mimetype": "text/x-python",
   "name": "python",
   "nbconvert_exporter": "python",
   "pygments_lexer": "ipython3",
   "version": "3.6.7"
  }
 },
 "nbformat": 4,
 "nbformat_minor": 2
}
