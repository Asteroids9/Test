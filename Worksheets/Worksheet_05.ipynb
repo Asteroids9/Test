{
 "cells": [
  {
   "cell_type": "markdown",
   "metadata": {
    "editable": false,
    "locked": true
   },
   "source": [
    "# Tutorial Worksheet 5"
   ]
  },
  {
   "cell_type": "markdown",
   "metadata": {
    "editable": false,
    "locked": true
   },
   "source": [
    "This tutorial class is all about loop which is a fundamental programming idea commonly used in writing computer programs. A loop is a sequence of instructions that is repeatedly executed until a certain condition is reached. Typically, a certain process is done, such as getting an item of data and changing it, and then some condition is checked such as whether a counter has reached a prescribed number. If it hasn't, the execution returns to the first instruction in the sequence and repeats the sequence. If the condition has been reached, the execution moves to the next sequential instruction or branches outside the loop. \n",
    "\n",
    "Loops can often save you writing many similar lines of code and you should always try to keep an eye out in your code for repetition that may mean you can use a loop to save you time."
   ]
  },
  {
   "cell_type": "markdown",
   "metadata": {
    "editable": false,
    "locked": true
   },
   "source": [
    "## `for` Loop \n",
    "\n",
    "**for** loop runs a set of lines multiple times. Python provides a mechanism for looping through consecutive values. However, unlike some programming languages, Python's loops do not intrinsically iterate over integers, but rather elements in sequences, like lists and tuples. \n",
    "\n",
    "### Iteration Over One Value\n",
    "\n",
    "The general construct is: \n",
    "\n",
    "```\n",
    "for element in sequence:\n",
    "    statements\n",
    "```"
   ]
  },
  {
   "cell_type": "markdown",
   "metadata": {
    "editable": false,
    "locked": true
   },
   "source": [
    "Note that anything falling within the loop is indented beneath the first line, which is similar to `if` statements, this is called a **code block** or **indentation block**. The example below shows that a `for` loop iterates over a list."
   ]
  },
  {
   "cell_type": "code",
   "execution_count": null,
   "metadata": {},
   "outputs": [],
   "source": [
    "for item in [3.5, \"Michael Faraday\", 10]:\n",
    "    print(item)"
   ]
  },
  {
   "cell_type": "markdown",
   "metadata": {
    "editable": false,
    "locked": true
   },
   "source": [
    "Note that the items in the list do not need to be of the same type. In each loop iteration, the variable `item` is given the value of the current element of the list, and the loop proceeds over these in the sequence. You do not have to use the variable `item` in the loop’s block of statements and also any variable name will do. But if an existing variable is used, its value will be overwritten by the loop variable."
   ]
  },
  {
   "cell_type": "markdown",
   "metadata": {
    "editable": false,
    "locked": true
   },
   "source": [
    "It's common to loop over a sequence of integers, here you can generate that list of integers using Pythons built-in `range` function. This is very similar to the `np.arange` function, including the same inputs, but only works with integers."
   ]
  },
  {
   "cell_type": "code",
   "execution_count": null,
   "metadata": {},
   "outputs": [],
   "source": [
    "for a in range(6):\n",
    "    print(a)"
   ]
  },
  {
   "cell_type": "code",
   "execution_count": null,
   "metadata": {},
   "outputs": [],
   "source": [
    "A = [18, 6, 12, 34] \n",
    "for b in A:\n",
    "    print(b)"
   ]
  },
  {
   "cell_type": "markdown",
   "metadata": {
    "editable": false,
    "locked": true
   },
   "source": [
    "In the example below, the loop first runs once with `m = 1`, so the total of items `E = 2`, then it runs again with `m = 2`, so the total `E = 6`, etc. The values of `m` are specified in the sequence of numbers."
   ]
  },
  {
   "cell_type": "code",
   "execution_count": null,
   "metadata": {},
   "outputs": [],
   "source": [
    "E = 0 # initialise the total of a sequence of numbers\n",
    "for m in range(1, 7):\n",
    "    E = E + 2 * m"
   ]
  },
  {
   "cell_type": "markdown",
   "metadata": {
    "editable": false,
    "locked": true
   },
   "source": [
    "### Question 1.  \n",
    "\n",
    "Calculate the factorial of 10 using a `for` loop. \n",
    "\n",
    "Answer: 3628800. "
   ]
  },
  {
   "cell_type": "code",
   "execution_count": null,
   "metadata": {},
   "outputs": [],
   "source": []
  },
  {
   "cell_type": "markdown",
   "metadata": {
    "editable": false,
    "locked": true
   },
   "source": [
    "If you want to access or change values in a list or array then you can use the index for the element you want to change.\n",
    "\n",
    "You can use the loop variable as an index, where `range(len(G))` can be used to return a list for every index in `G`. For example below we use the loop variable `i` as an index to access elements in `G`."
   ]
  },
  {
   "cell_type": "code",
   "execution_count": null,
   "metadata": {},
   "outputs": [],
   "source": [
    "G = [-1, 3, 2, -7, 10] # set the initial values in list G\n",
    "for i in range( len(G) ): # start the loop\n",
    "    if G[i] < 0: # check for negative values, and replace negative ones with 0s\n",
    "        G[i] = 0"
   ]
  },
  {
   "cell_type": "markdown",
   "metadata": {
    "editable": false,
    "locked": true
   },
   "source": [
    "Note: it's a common convention when using a variable to stor an index to call that variable `i`, `j` or `k`. You will see these especially often in non-Python code.\n",
    "\n",
    "Instead of updating the original list, you can create a new list to hold the updated items in the original list. For instance,"
   ]
  },
  {
   "cell_type": "code",
   "execution_count": null,
   "metadata": {},
   "outputs": [],
   "source": [
    "G = [-1, 3, 2, -7, 10] # set the initial value in list G\n",
    "newG = []\n",
    "for i in range( len(G) ): # start the loop\n",
    "    if G[i] < 0: # check for negative values, and replace them with 0s\n",
    "        G[i] = 0\n",
    "    newG.append(G[i])"
   ]
  },
  {
   "cell_type": "markdown",
   "metadata": {
    "editable": false,
    "locked": true
   },
   "source": [
    "### Question 2.  \n",
    "\n",
    "A vector x has been obtained from measurements which is listed as the X_Before variable below. Suppose we want to consider any data item with its value in the range $-0.1 < x_i < 0.1$ as being erroneous. We then replace such data items with zeros. \n",
    "\n",
    "Write some lines of code that use a `for` loop to check the original X_Before vector, and to produce a new vector X_After.\n",
    "\n",
    "```\n",
    "X_Before = array([1.84, 0.06, -2.16, -0.03, 0.85])\n",
    "X_After  = array([1.84, 0,    -2.16, 0,     0.85])\n",
    "```"
   ]
  },
  {
   "cell_type": "code",
   "execution_count": null,
   "metadata": {},
   "outputs": [],
   "source": []
  },
  {
   "cell_type": "markdown",
   "metadata": {
    "editable": false,
    "locked": true
   },
   "source": [
    "### Iteration Over Multiple Values\n",
    "\n",
    "It is possible to iterate over more than one value at a time using **Multiple Assignment**."
   ]
  },
  {
   "cell_type": "code",
   "execution_count": null,
   "metadata": {},
   "outputs": [],
   "source": [
    "B = [ (0, 1), (2, 3), (4, 5) ] \n",
    "for (c, d) in B: \n",
    "    print(c + d)"
   ]
  },
  {
   "cell_type": "markdown",
   "metadata": {
    "editable": false,
    "locked": true
   },
   "source": [
    "In the example above, each element of the list is a two-tuple and the multiple assignment `(c, d) =` element for each element in the list points `c` to the first member of the tuple and `d` to the second.\n",
    "\n",
    "It is possible to simultaneously iterate over two lists using the `zip` function. The `zip` function takes two (or more) lists and groups them together, making tuples of corresponding list elements."
   ]
  },
  {
   "cell_type": "code",
   "execution_count": null,
   "metadata": {},
   "outputs": [],
   "source": [
    "C = [0, 1, 2, 3] \n",
    "D = [10, 12, 15, 20]\n",
    "for (e, f) in zip(C, D): \n",
    "    print(e,  f,  e + f)"
   ]
  },
  {
   "cell_type": "markdown",
   "metadata": {
    "editable": false,
    "locked": true
   },
   "source": [
    "### Question 3.  \n",
    "\n",
    "Use your **\"getting help\"** skills to find out what `enumerate` function does and how to use it. Then apply this `enumerate` function to adapt your code for solving the question 2."
   ]
  },
  {
   "cell_type": "code",
   "execution_count": null,
   "metadata": {},
   "outputs": [],
   "source": []
  },
  {
   "cell_type": "markdown",
   "metadata": {
    "editable": false,
    "locked": true
   },
   "source": [
    "### Nested Loops\n",
    "\n",
    "Loops can be nested. The example below uses two `for` loops. What is the exact order of execution of these two `for` loops?"
   ]
  },
  {
   "cell_type": "code",
   "execution_count": null,
   "metadata": {},
   "outputs": [],
   "source": [
    "for u1 in range(6):\n",
    "    for v1 in range(0, u1): \n",
    "        print (u1, v1)"
   ]
  },
  {
   "cell_type": "markdown",
   "metadata": {
    "editable": false,
    "locked": true
   },
   "source": [
    "Note: nested for loops are often used when looping through 2D datasets, like those in an image array, where one loop goes through the x-axis and the other through the y-axis.\n",
    "\n",
    "One thing to be careful of here is to make sure you use different variable names for each `for` loop, `u1` and `v1` in the example above. If you use the same variable, then the inner nested loop will overwrite the variable values from the outer loop."
   ]
  },
  {
   "cell_type": "markdown",
   "metadata": {
    "editable": false,
    "locked": true
   },
   "source": [
    "### `continue` and `break` in Loops\n",
    "\n",
    "It is possible to skip to the next loop iteration without executing subsequent commands within the same indentation block, using the `continue` statement. The following lines produce the same output as the example above but using `continue` statement. Note that this is ultimately less efficient due to the fact that more loop iterations need to get executed."
   ]
  },
  {
   "cell_type": "code",
   "execution_count": null,
   "metadata": {},
   "outputs": [],
   "source": [
    "for u2 in range(6):\n",
    "    for v2 in range(6): \n",
    "        if u2 <= v2: continue\n",
    "        print(u2, v2)"
   ]
  },
  {
   "cell_type": "markdown",
   "metadata": {
    "editable": false,
    "locked": true
   },
   "source": [
    "A `for` loop can be terminated by a `break` statement. The following, again, produces the same result however the inner loop terminates as soon as the `break` statement is encountered. Note that, if multiple loops are nested, the `break` statement will stop only the innermost loop."
   ]
  },
  {
   "cell_type": "code",
   "execution_count": null,
   "metadata": {},
   "outputs": [],
   "source": [
    "for u3 in range(6):\n",
    "    for v3 in range(6): \n",
    "        if u3 <= v3: break\n",
    "        print(u3, v3)"
   ]
  },
  {
   "cell_type": "markdown",
   "metadata": {
    "editable": false,
    "locked": true
   },
   "source": [
    "Note: `break` is generally used when you're looking for something and have found it, at this point running more loops is a waste of processing and so breaking makes the code faster. Often you will find that the same can be achieved using a `while` loop."
   ]
  },
  {
   "cell_type": "markdown",
   "metadata": {
    "editable": false,
    "locked": true
   },
   "source": [
    "## `while` Loop"
   ]
  },
  {
   "cell_type": "markdown",
   "metadata": {
    "editable": false,
    "locked": true
   },
   "source": [
    "The `while` loop does not iterate over a sequence of elements but it repeats a block of statements indefinitely as long as some condition is satisfied, which is different from a `for` loop. The general form of a `while` loop is as follows:\n",
    "\n",
    "```\n",
    "while condition:\n",
    "    statements\n",
    "```"
   ]
  },
  {
   "cell_type": "markdown",
   "metadata": {
    "editable": false,
    "locked": true
   },
   "source": [
    "The example below finds the smallest integer `N` such that `1 + 2 + 3 + ... + N > 1000`"
   ]
  },
  {
   "cell_type": "code",
   "execution_count": null,
   "metadata": {},
   "outputs": [],
   "source": [
    "T1 = 0\n",
    "m1 = 0\n",
    "while T1 <= 1000:\n",
    "    m1 += 1\n",
    "    T1 += m1\n",
    "print( \"The total of integers from 1 to %d is %d. \\n\" % (m1, T1) )"
   ]
  },
  {
   "cell_type": "markdown",
   "metadata": {
    "editable": false,
    "locked": true
   },
   "source": [
    "The `while` loop keeps going repeating the execution of the statements in its loop body as long as the logical test `(T1 <= 1000)` is `True`. Note that we have to increase `m1` manually once at a time, since we don't know how big `m1` could get. When we reach `m1 = 45`, `T1 = 1035`, the `while` loop is no longer executed since the logical test `(T1 <= 1000)` returns `False`. The last line then shows this final value of `m1`.\n",
    "\n",
    "**A `while` loop variable must be initialised before the `while` loop starts and the loop variable must be changed by its block of statements**.\n",
    "\n",
    "Sometimes we want to stop a `while` loop somewhere in the middle of its block of statements. For this purpose, a `break` statement can be used with an infinite loop. The code below does the same thing of looking for the smallest integer N using a `break` statement in an infinite loop which is created with the `while` `True`: statement. "
   ]
  },
  {
   "cell_type": "code",
   "execution_count": null,
   "metadata": {},
   "outputs": [],
   "source": [
    "T2 = 0\n",
    "m2 = 0\n",
    "while True:\n",
    "    m2 += 1\n",
    "    T2 += m2\n",
    "    if T2 > 1000: break\n",
    "print( \"The total of integers from 1 to %d is %d. \\n\" % (m2, T2) )"
   ]
  },
  {
   "cell_type": "markdown",
   "metadata": {
    "editable": false,
    "locked": true
   },
   "source": [
    "### Question 4.  \n",
    "\n",
    "Write a few lines using a `while` loop to repeatedly print out the value of the variable Y, decreasing it by 1 each time, as long as Y remains positive. The variable Y needs to be initialised to 100."
   ]
  },
  {
   "cell_type": "code",
   "execution_count": null,
   "metadata": {},
   "outputs": [],
   "source": []
  }
 ],
 "metadata": {
  "kernelspec": {
   "display_name": "Python 3",
   "language": "python",
   "name": "python3"
  },
  "language_info": {
   "codemirror_mode": {
    "name": "ipython",
    "version": 3
   },
   "file_extension": ".py",
   "mimetype": "text/x-python",
   "name": "python",
   "nbconvert_exporter": "python",
   "pygments_lexer": "ipython3",
   "version": "3.6.7"
  },
  "widgets": {
   "state": {},
   "version": "1.1.2"
  }
 },
 "nbformat": 4,
 "nbformat_minor": 2
}
