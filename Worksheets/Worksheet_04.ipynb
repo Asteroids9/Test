{
 "cells": [
  {
   "cell_type": "markdown",
   "metadata": {
    "editable": false,
    "locked": true
   },
   "source": [
    "# Tutorial Worksheet 4"
   ]
  },
  {
   "cell_type": "markdown",
   "metadata": {
    "editable": false,
    "locked": true
   },
   "source": [
    "## Logical Values and Operations\n",
    "\n",
    "The logical variables (**Boolean** variables) have only two possible values: `True` and `False`.  "
   ]
  },
  {
   "cell_type": "code",
   "execution_count": null,
   "metadata": {},
   "outputs": [],
   "source": [
    "C1 = False"
   ]
  },
  {
   "cell_type": "code",
   "execution_count": null,
   "metadata": {},
   "outputs": [],
   "source": [
    "C2 = True"
   ]
  },
  {
   "cell_type": "markdown",
   "metadata": {
    "editable": false,
    "locked": true
   },
   "source": [
    "These `True` and `False` values have corresponding numerical values of 1 and 0, respectively.  So 0 can be considered equal to `False` and 1 to `True`. `==` is one of **Relational Operators** introduced in the next section. So what logical values do C3 and C4 have?"
   ]
  },
  {
   "cell_type": "code",
   "execution_count": null,
   "metadata": {},
   "outputs": [],
   "source": [
    "C3 = 0 == False"
   ]
  },
  {
   "cell_type": "code",
   "execution_count": null,
   "metadata": {},
   "outputs": [],
   "source": [
    "C4 = 1 == False"
   ]
  },
  {
   "cell_type": "markdown",
   "metadata": {
    "editable": false,
    "locked": true
   },
   "source": [
    "Logical values can be returned by both **relational operators** and **logical operators**.\n",
    "\n",
    "### Relational Operators\n",
    "\n",
    "Relational operators compare operands quantitatively, using operators like ‘less than’ and ‘not equal to’. There are some relational operators listed below. \n",
    "\n",
    "* `>` Greater than \n",
    "* `<` Less than\n",
    "* `>=` Greater than or equal to\n",
    "* `<=` Less than or equal to\n",
    "* `==` Equal to \n",
    "* `!=` Not equal to "
   ]
  },
  {
   "cell_type": "markdown",
   "metadata": {
    "editable": false,
    "locked": true
   },
   "source": [
    "For example, variable E1 below shows whether the number n is larger than 3, and variable E2 shows if the number is smaller than 8."
   ]
  },
  {
   "cell_type": "code",
   "execution_count": null,
   "metadata": {},
   "outputs": [],
   "source": [
    "n = 5\n",
    "E1 = n > 3\n",
    "E2 = n < 8"
   ]
  },
  {
   "cell_type": "markdown",
   "metadata": {
    "editable": false,
    "locked": true
   },
   "source": [
    "You can also extend this to **NumPy** arrays, for example, variable E3 below shows whether the numbers in vector variable D are larger than 3, and variable E4 shows if the numbers in D are smaller than 8. Are the E3 and E4 arrays the same size as D? "
   ]
  },
  {
   "cell_type": "code",
   "execution_count": null,
   "metadata": {},
   "outputs": [],
   "source": [
    "import numpy as np\n",
    "D = np.array([6, 2, 7, 4, 3, 8, 1])\n",
    "E3 = D > 3\n",
    "E4 = D < 8"
   ]
  },
  {
   "cell_type": "markdown",
   "metadata": {
    "editable": false,
    "locked": true
   },
   "source": [
    "Note: unlike `NumPy` arrays which are designed for maths, basic Python `list`, `dict` and `tuple` objects don't support relational operations."
   ]
  },
  {
   "cell_type": "markdown",
   "metadata": {
    "editable": false,
    "locked": true
   },
   "source": [
    "### Logical Operators\n",
    "\n",
    "Logical operators are used to assess if a statement is `True` or `False`. There are three main logical operators. \n",
    "\n",
    "* `and`\tLogical AND (If both the operands are true then condition becomes true)\n",
    "* `or` \tLogical OR  (If any of the two operands are true then condition becomes true)\n",
    "* `not` Logical NOT  (Used to reverse the logical state of the operand)\n",
    "\n",
    "Logical operators can be used to combine some relational or logical expressions. You may use some pairs of parentheses to help indicate operator precedence even though they are unnecessary for the examples below due to the fact that relational operators have higher precedence than logical operators."
   ]
  },
  {
   "cell_type": "code",
   "execution_count": null,
   "metadata": {},
   "outputs": [],
   "source": [
    "F1 = (4 < 2) and (7 > 3) \n",
    "F2 = (3 > 2) or (5 < 9) \n",
    "F3 = not(5 == 5)\n",
    "F4 = (not 3 != 5) or (2 > 6)"
   ]
  },
  {
   "cell_type": "markdown",
   "metadata": {
    "editable": false,
    "locked": true
   },
   "source": [
    "Some logical operations in **NumPy**:"
   ]
  },
  {
   "cell_type": "code",
   "execution_count": null,
   "metadata": {},
   "outputs": [],
   "source": [
    "G1 = np.array([1, 0, 1, 1, 0], dtype=bool)\n",
    "G2 = np.array([0, 1, 0, 1, 0], dtype=bool)\n",
    "G3 = np.logical_or(G1, G2)\n",
    "G4 = np.logical_and(G1, G2)"
   ]
  },
  {
   "cell_type": "markdown",
   "metadata": {
    "editable": false,
    "locked": true
   },
   "source": [
    "### Question 1.\n",
    "\n",
    "Assume that a = 15; b = -3; c = 0; d = 2 and evaluate the following expressions.\n",
    "1. a > b;\t\n",
    "2. b > d;\t\n",
    "3. (a > b) and (c >= d);\t\n",
    "4. a == b;\t\n",
    "5. b != d"
   ]
  },
  {
   "cell_type": "code",
   "execution_count": null,
   "metadata": {},
   "outputs": [],
   "source": []
  },
  {
   "cell_type": "markdown",
   "metadata": {
    "editable": false,
    "locked": true
   },
   "source": [
    "### Membership Operators\n",
    "\n",
    "Python’s membership operators test for membership in a sequence, such as strings, lists, or tuples. There are two membership operators - `in`, and `not in`. `in` evaluates to `True` if it finds a variable in the specified sequence and `False` otherwise. For example, `x in y`, `in` here results in a `True` if x is a member of sequence y. `not in` evaluates to `True` if it does not find a variable in the specified sequence and `False` otherwise. For instance, `x not in y`, `not in` here results in a `True` if x is not a member of sequence y."
   ]
  },
  {
   "cell_type": "code",
   "execution_count": null,
   "metadata": {},
   "outputs": [],
   "source": [
    "H1 = [1, 2, 3, 4, 5, 6]\n",
    "H2 = np.array([1, 2, 3, 4, 5])\n",
    "H3 = 3 not in H1\n",
    "H4 =  2 in H2"
   ]
  },
  {
   "cell_type": "markdown",
   "metadata": {
    "editable": false,
    "locked": true
   },
   "source": [
    "### Identity Operators\n",
    "\n",
    "Python's identity operators compare the memory locations of two objects. There are two identity operators − `is`, and `is not`. `is` evaluates to `True` if the variables on either side of the operator point to the same object and `False` otherwise. For instance, `x is y`, `is` here results in `True` if `id(x)` is equal to `id(y)`. Use `help(id)` to find out what this function does. `is not` evaluates to `False` if the variables on either side of the operator point to the same object and `True` otherwise. For example, `x is not y`, `is not` here results in `True` if `id(x)` is not equal to `id(y)`."
   ]
  },
  {
   "cell_type": "code",
   "execution_count": null,
   "metadata": {},
   "outputs": [],
   "source": [
    "J1 = (1, 2, 3, 4, 5, 6)\n",
    "J2 = (1, 2, 3, 4, 5, 6)\n",
    "J3 = J1\n",
    "J4 = J1 is J2\n",
    "J5 = J1 is not J2\n",
    "J6 = J1 is J3"
   ]
  },
  {
   "cell_type": "markdown",
   "metadata": {
    "editable": false,
    "locked": true
   },
   "source": [
    "Run the code cell below to compare `is` and `==` operators."
   ]
  },
  {
   "cell_type": "code",
   "execution_count": null,
   "metadata": {},
   "outputs": [],
   "source": [
    "J7 = [1, 2, 3, 4]\n",
    "J8 = [1, 2, 3, 4]\n",
    "\n",
    "J9 = J7==J8\n",
    "J10 = J7 is J8"
   ]
  },
  {
   "cell_type": "markdown",
   "metadata": {
    "editable": false,
    "locked": true
   },
   "source": [
    "### Operation Precedence\n",
    "\n",
    "Some Python operators are listed below with the precedence from highest to lowest.\n",
    "\n",
    "* Exponentiation \n",
    "* Multiplication and division\n",
    "* Addition and subtraction\n",
    "* Relational operators\n",
    "* Identity operators\n",
    "* Membership operators\n",
    "* Logical operators\n",
    "\n",
    "Based on the list above, you are able to confirm that there is no need to use two pairs of parentheses for the previous example `F1 = (4 < 2) and (7 > 3)`. But using them can improve the readability.\n"
   ]
  },
  {
   "cell_type": "markdown",
   "metadata": {
    "editable": false,
    "locked": true
   },
   "source": [
    "## Logical Indexing"
   ]
  },
  {
   "cell_type": "markdown",
   "metadata": {
    "editable": false,
    "locked": true
   },
   "source": [
    "Logical indices (Boolean arrays) can often be used in a similar way to subscript indices to select out particular items from a **NumPy** array."
   ]
  },
  {
   "cell_type": "code",
   "execution_count": null,
   "metadata": {},
   "outputs": [],
   "source": [
    "K1 = np.arange(20)\n",
    "print(K1)\n",
    "k2 = (K1 % 3 == 0)  # produce a logical array as logical indices\n",
    "k3 = K1[k2]  # or, K1[K1%3==0], extract a sub-array with the logical indices\n",
    "K1[K1 % 3 == 0] = -1  # assign a new value to a sub-array"
   ]
  },
  {
   "cell_type": "markdown",
   "metadata": {
    "editable": false,
    "locked": true
   },
   "source": [
    "Note that logical indexing creates copies **not** views."
   ]
  },
  {
   "cell_type": "markdown",
   "metadata": {
    "editable": false,
    "locked": true
   },
   "source": [
    "### Question 2. \n",
    "\n",
    "Create a 4 by 20 array whose rows are the numbers 1 to 20. Then multiply columns 0, 5, 10, 15 by 2 using Logical Indexing.\n",
    "\n",
    "The created array should look like the one below:\n",
    "\n",
    "```\n",
    "[[ 2  2  3  4  5 12  7  8  9 10 22 12 13 14 15 32 17 18 19 20]\n",
    " [ 2  2  3  4  5 12  7  8  9 10 22 12 13 14 15 32 17 18 19 20]\n",
    " [ 2  2  3  4  5 12  7  8  9 10 22 12 13 14 15 32 17 18 19 20]\n",
    " [ 2  2  3  4  5 12  7  8  9 10 22 12 13 14 15 32 17 18 19 20]]\n",
    "```"
   ]
  },
  {
   "cell_type": "code",
   "execution_count": null,
   "metadata": {},
   "outputs": [],
   "source": []
  },
  {
   "cell_type": "markdown",
   "metadata": {
    "editable": false,
    "locked": true
   },
   "source": [
    "The example below demonstrates how to find, within an array, the index and value of a specific element that is the first instance of a possible group of elements satisfying a certain condition. Here, we are looking for the first integer that is equal to or greater than 80 within an array of 20 integers between 1 and 100."
   ]
  },
  {
   "cell_type": "code",
   "execution_count": null,
   "metadata": {},
   "outputs": [],
   "source": [
    "np.random.seed(4)\n",
    "K1 = np.random.randint(1, 100, 20) # produce 20 random integers between 1 and 100\n",
    "K2 = K1 >= 80 # generate a logical array  \n",
    "K3 = np.argwhere(K2==True) # find the indices for 'true' array elements\n",
    "K4 = K3[0] # get the index of the first element that we are looking for\n",
    "K5 = K1[K4] # get the first element itself"
   ]
  },
  {
   "cell_type": "markdown",
   "metadata": {
    "editable": false,
    "locked": true
   },
   "source": [
    "Note: you don't need to know what `np.random.seed` does, but if you're curious then look it up in the **NumPy Documentation**, you find links to the `numpy.random.RandomState` function."
   ]
  },
  {
   "cell_type": "markdown",
   "metadata": {
    "editable": false,
    "locked": true
   },
   "source": [
    "### Question 3. \n",
    "\n",
    "In the circuit shown in the Figure below, a resistor $R$ and a capacitor $C$ are connected in series to a battery of voltage $V$. When the switch closes, the capacitor starts to charge, and the current is a function of time $t$ as\n",
    "\n",
    "$$ i=\\frac{V}{R}e^{-\\frac{t}{RC}}$$\n",
    "\n",
    "Let VR and VC denote the voltages cross $R$ and $C$ (VR and VC are also functions of $t$), respectively. Assuming $V$ = 12 Volts, $R$ = 1 $k\\Omega$, $C$ = 50 $\\mu F$, and $t$ varies from 0 to 0.3 s with a step of 0.01 s, write a script and use the time array to express the current array (based on the equation above), and the corresponding VR and VC. Use relational operator to compute and find how long it takes (from which item of the time vector variable) for VC to increase to 50% of the battery voltage $V$. \n",
    "\n",
    "![the RC circuit](Worksheet_04_circuit.png)\n",
    "\n",
    "Answer: 0.04 s"
   ]
  },
  {
   "cell_type": "code",
   "execution_count": null,
   "metadata": {},
   "outputs": [],
   "source": []
  },
  {
   "cell_type": "markdown",
   "metadata": {
    "editable": false,
    "locked": true
   },
   "source": [
    "##  ‘if’ statement"
   ]
  },
  {
   "cell_type": "markdown",
   "metadata": {
    "editable": false,
    "locked": true
   },
   "source": [
    "A script can run a sequence of statements in the order they appear, but to make scripts more useful, we need to be able to tell the script to conditionally execute statements. \n",
    "\n",
    "`if` is the basic control element to let a script make a decision. The decision is based on a logical value as a result of an expression evaluated. The general form of an `if` statement is\n",
    "\n",
    "```\n",
    "if expression:\n",
    "         statements\n",
    "elif expression:\n",
    "         statements\n",
    "else:\n",
    "         statements\n",
    "```\n",
    "\n",
    "Note that the first testing line begins with `if`, the second with `elif` meaning 'else if', and the third with `else`. Each of these is followed by a **colon** with the correspondent statements to execute. Items after the colon are indented. `if` statements can include one `else`, and as many `elif` as necessary. However, both `elif` and `else` are optional. Also note that all of the statements that are grouped together after a colon must be indented by the same amount.\n",
    "\n",
    "If an expression is `True` or evaluated to be the number **one** (because the number **zero** is interpreted as `False`, while the number **one** is treated as `True`), the next statement will execute. For example, the function $y=e^x, \\; x<0$ can be scripted using a ‘single’ `if`. Note that `if` can only evaluate ONE thing so don’t try to use a vector or array as the input."
   ]
  },
  {
   "cell_type": "code",
   "execution_count": null,
   "metadata": {},
   "outputs": [],
   "source": [
    "x = -2\n",
    "if x < 0:\n",
    "    y = np.exp(x)\n",
    "    print(y)"
   ]
  },
  {
   "cell_type": "markdown",
   "metadata": {
    "editable": false,
    "locked": true
   },
   "source": [
    "In addition, empty lists and other objects return `False`, whereas non-empty ones are considered `True`.\n",
    "\n",
    "An `if` statement can also include an `elif`, which executes if the first part is `False` or equal to zero. For example,\n",
    "\n",
    "$$ y = \\begin{cases} e^x, & \\mbox{if } x<0 \\\\ \\sqrt{x}, & \\mbox{if } x\\geq 0 \\end{cases} $$"
   ]
  },
  {
   "cell_type": "code",
   "execution_count": null,
   "metadata": {},
   "outputs": [],
   "source": [
    "x = 4\n",
    "if x < 0:\n",
    "    y = np.exp(x)\n",
    "    print(y)\n",
    "elif x >= 0:\n",
    "    y = np.sqrt(x)\n",
    "    print(y)"
   ]
  },
  {
   "cell_type": "markdown",
   "metadata": {
    "editable": false,
    "locked": true
   },
   "source": [
    "In addition to having any number of `elif` clauses, an `if` construct can also include one `else` clause. For example, "
   ]
  },
  {
   "cell_type": "markdown",
   "metadata": {
    "editable": false,
    "locked": true
   },
   "source": [
    "$$ y = \\begin{cases} e^x, & \\mbox{if } x<0 \\\\ \\sqrt{x}, & \\mbox{if } 0\\leq x<5\\\\ \\ln x, & \\mbox{if } x\\geq 5 \\end{cases} $$"
   ]
  },
  {
   "cell_type": "code",
   "execution_count": null,
   "metadata": {},
   "outputs": [],
   "source": [
    "x = 6\n",
    "if x < 0:\n",
    "    y = np.exp(x)\n",
    "    print(y)\n",
    "elif x < 5:\n",
    "    y = np.sqrt(x)\n",
    "    print(y)\n",
    "else:\n",
    "    y = np.log(x)\n",
    "    print(y)"
   ]
  },
  {
   "cell_type": "markdown",
   "metadata": {
    "editable": false,
    "locked": true
   },
   "source": [
    "Compare these three examples above with the general form of the `if` statement to confirm which parts of the general form are optional.\n",
    "\n",
    "`if` statements can be nested using indentation. For example, the above code can be rewritten using nested `if` statements below."
   ]
  },
  {
   "cell_type": "code",
   "execution_count": null,
   "metadata": {},
   "outputs": [],
   "source": [
    "x = 6\n",
    "if x < 0:\n",
    "    y = np.exp(x)\n",
    "    print(y)\n",
    "else:\n",
    "    if x < 5:\n",
    "        y = np.sqrt(x)\n",
    "        print(y)\n",
    "    else:\n",
    "        y = np.log(x)\n",
    "        print(y)"
   ]
  },
  {
   "cell_type": "markdown",
   "metadata": {
    "editable": false,
    "locked": true
   },
   "source": [
    "Note: when using many `elif` statements to make decisions, make sure to cover all possible cases, a common mistake is to take one action if `x > y` make another action if `x < y` and miss out the option where `x == y`."
   ]
  },
  {
   "cell_type": "markdown",
   "metadata": {
    "editable": false,
    "locked": true
   },
   "source": [
    "### Question 4.\n",
    "\n",
    "Write a script to evaluate the value of the following function and test your script for point $(x, y) = (-2, -3)$.\n",
    "\n",
    "$$ f(x,y) = \\begin{cases} x+y, & \\mbox{if } x\\geq0 \\mbox{ and } y\\geq0 \\\\ x+y^2, & \\mbox{if } x\\geq0 \\mbox{ and } y<0 \\\\ x^2+y, & \\mbox{if } x<0 \\mbox{ and } y\\geq0 \\\\ x^2+y^2, & \\mbox{if } x<0 \\mbox{ and } y<0 \\end{cases} $$\n",
    "\n",
    "\n"
   ]
  },
  {
   "cell_type": "code",
   "execution_count": null,
   "metadata": {},
   "outputs": [],
   "source": []
  }
 ],
 "metadata": {
  "kernelspec": {
   "display_name": "Python 3",
   "language": "python",
   "name": "python3"
  },
  "language_info": {
   "codemirror_mode": {
    "name": "ipython",
    "version": 3
   },
   "file_extension": ".py",
   "mimetype": "text/x-python",
   "name": "python",
   "nbconvert_exporter": "python",
   "pygments_lexer": "ipython3",
   "version": "3.6.7"
  },
  "widgets": {
   "state": {},
   "version": "1.1.2"
  }
 },
 "nbformat": 4,
 "nbformat_minor": 2
}
